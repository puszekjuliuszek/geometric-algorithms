{
 "cells": [
  {
   "cell_type": "markdown",
   "id": "17230fdc",
   "metadata": {},
   "source": [
    "# Zadanie 2"
   ]
  },
  {
   "cell_type": "code",
   "execution_count": 2,
   "id": "3a213c0b",
   "metadata": {},
   "outputs": [],
   "source": [
    "from random import uniform\n",
    "from math import sin\n",
    "from math import cos\n",
    "from math import pi"
   ]
  },
  {
   "cell_type": "markdown",
   "id": "27c0c2ea",
   "metadata": {},
   "source": [
    "### Generowanie punktów ze zbioru A"
   ]
  },
  {
   "cell_type": "code",
   "execution_count": null,
   "id": "08eb9ea0",
   "metadata": {},
   "outputs": [],
   "source": [
    "N_AB = 10 ** 5\n",
    "RANGE_MIN_AB = -10 ** 3\n",
    "RANGE_MAX_AB = 10 ** 3\n",
    "points_Ax = [uniform(RANGE_MIN_AB, RANGE_MAX_AB) for _ in range(N_AB)]\n",
    "points_Ay = [uniform(RANGE_MIN_AB, RANGE_MAX_AB) for _ in range(N_AB)]\n",
    "plt.rcParams[\"figure.figsize\"] = (10, 10)\n",
    "plt.plot(points_Ax, points_Ay, \",\")\n",
    "plt.show()"
   ]
  },
  {
   "cell_type": "markdown",
   "id": "76d1379b",
   "metadata": {},
   "source": [
    "### Generowanie punktów ze zbioru B"
   ]
  },
  {
   "cell_type": "code",
   "execution_count": null,
   "id": "511e40b3",
   "metadata": {},
   "outputs": [],
   "source": []
  },
  {
   "cell_type": "markdown",
   "id": "7a5515c7",
   "metadata": {},
   "source": [
    "### Generowanie punktów ze zbioru C"
   ]
  },
  {
   "cell_type": "code",
   "execution_count": null,
   "id": "0bf3d215",
   "metadata": {},
   "outputs": [],
   "source": []
  },
  {
   "cell_type": "markdown",
   "id": "e12a600f",
   "metadata": {},
   "source": [
    "### Generowanie punktów ze zbioru D"
   ]
  },
  {
   "cell_type": "code",
   "execution_count": null,
   "id": "1cc606d9",
   "metadata": {},
   "outputs": [],
   "source": []
  }
 ],
 "metadata": {
  "kernelspec": {
   "display_name": "Python 3 (ipykernel)",
   "language": "python",
   "name": "python3"
  },
  "language_info": {
   "codemirror_mode": {
    "name": "ipython",
    "version": 3
   },
   "file_extension": ".py",
   "mimetype": "text/x-python",
   "name": "python",
   "nbconvert_exporter": "python",
   "pygments_lexer": "ipython3",
   "version": "3.9.12"
  }
 },
 "nbformat": 4,
 "nbformat_minor": 5
}
